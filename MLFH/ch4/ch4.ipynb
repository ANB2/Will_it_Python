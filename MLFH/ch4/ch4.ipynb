{
 "metadata": {
  "name": "ch4"
 },
 "nbformat": 3,
 "nbformat_minor": 0,
 "worksheets": [
  {
   "cells": [
    {
     "cell_type": "raw",
     "metadata": {},
     "source": [
      "'''\n",
      "-------------------------------------------------------------------------------\n",
      "Filename   : ch4.ipynb\n",
      "Date       :  2012-09-17\n",
      "Author     : C. Vogel\n",
      "Purpose    : Replicate the naive Bayes e-mail classifier in Chapter 3 of \n",
      "           : _Machine Learning for Hackers_.\n",
      "Input Data : e-mail files, split into spam and ham (non-spam) folders are available \n",
      "           : at the book's github repository at https://github.com/johnmyleswhite/\n",
      "           : ML_for_Hackers.git. \n",
      "Libraries  : dateutil, Matplotlib, NLTK, textmining, Numpy 1.6.1, pandas 0.9.0\n",
      "           : statsmodels\n",
      "-------------------------------------------------------------------------------\n",
      "\n",
      "This notebook is a Python port of the R code in Chapter 4 of _Machine Learning\n",
      "for Hackers_ by D. Conway and J.M. White.\n",
      "\n",
      "E-mail files, split into folders classified as spam or ham (non-spam), should be located \n",
      "in a /data/ subfolder of the working directory. See the paths defined just after the import\n",
      "statements below to see what directory structure this script requires. Copying complete\n",
      "data folder from the book's github repository should be sufficient.\n",
      "\n",
      "For a detailed description of the analysis and the process of porting it\n",
      "to Python, see: slendrmeans.wordpress.com/will-it-python.\n",
      "'''"
     ]
    },
    {
     "cell_type": "markdown",
     "metadata": {},
     "source": [
      "\n",
      "## OVERVIEW:\n",
      "\n",
      "This program identifies 'priority' e-mails in a dataset of e-mails.\n",
      "E-mail $i$ is a priority e-mail if Rank($i$) $\\ge$ threshold, where Rank($i$)\n",
      "is the product of 5 weighting factors. So, if:\n",
      "\n",
      "$\\prod_{k=1}^{5}\\omega_k(i) \\ge \\textrm{threshold}$\n",
      "\n",
      "then e-mail $i$ is a priority message. The weighting functions $\\omega_k(i)$ and the\n",
      "threshold are calculated from a *training* dataset (`train_df`).\n",
      "\n",
      "The five weights functions are:\n",
      "\n",
      "1. *Sender Weight*: the more often the sender's email address occurs in the training  \n",
      "    dataset, the more weight the e-mail recieves. Addresses not in the training set get \n",
      "    weight of 1.\n",
      "2. *Thread-Sender Weight*: If the more often a sender's address occurs in threads in the \n",
      "    training set, the more weight the e-mail recieves. Addresses not in threads in the \n",
      "    training dataset get a weight of 1.\n",
      "3. *Thread-Activity Weight*: If the e-mail is part of a thread in the training set, it gets weighted based on how 'active' the thread is, in terms of messages-per-unit-of-time.\n",
      "4. *Subject Term Weight*: If the terms in an e-mails subject line occur in the subjects of the training set thread, it gets a weight proportional to the activities of the threads its terms occur in.\n",
      "5. *Message Term Weight*: An e-mail gets a message-term-weight that's proportional to how freqently the term occurs in the messages of the training set.\n",
      "\n",
      "The program is broken into sections of functionality:\n",
      "\n",
      "- Parse the e-mails: Read each e-mail file into a dataframe that contains the e-mail's sender, subject, and message. \n",
      "- Split this dataframe into a training and testing part.\n",
      "- Identify thread e-mails in the training set\n",
      "- Build the five weight functions based on the training set e-mails\n",
      "- Rank the e-mails in the training set using the weight functions; compute a threshold weight\n",
      "- Rank the e-mails in the test set. Flag e-mails with ranks higher than the threshold as 'priority'\n",
      "- Plot and explore the results."
     ]
    },
    {
     "cell_type": "code",
     "collapsed": false,
     "input": [
      "%pylab inline"
     ],
     "language": "python",
     "metadata": {},
     "outputs": [
      {
       "output_type": "stream",
       "stream": "stdout",
       "text": [
        "\n",
        "Welcome to pylab, a matplotlib-based Python environment [backend: module://IPython.zmq.pylab.backend_inline].\n",
        "For more information, type 'help(pylab)'.\n"
       ]
      }
     ],
     "prompt_number": 1
    },
    {
     "cell_type": "code",
     "collapsed": false,
     "input": [
      "import os\n",
      "import re\n",
      "import math\n",
      "import random\n",
      "import numpy as np\n",
      "import datetime as dt\n",
      "import dateutil.parser as dtp\n",
      "import matplotlib.pyplot as plt\n",
      "import textmining as txtm\n",
      "import string\n",
      "from pandas import *\n",
      "import sys\n",
      "from statsmodels.nonparametric import KDE\n",
      "from tdm_df import tdm_df  # Term-document matrix builder from CH3"
     ],
     "language": "python",
     "metadata": {},
     "outputs": [],
     "prompt_number": 3
    },
    {
     "cell_type": "code",
     "collapsed": false,
     "input": [
      "# Define paths to the data. We'll be prioritizing e-mails in the \"Easy Ham\" folder\n",
      "data_path = os.path.abspath(os.path.join('..','ch3', 'data'))\n",
      "easyham_path = os.path.abspath(os.path.join(data_path, 'easy_ham'))   "
     ],
     "language": "python",
     "metadata": {},
     "outputs": [],
     "prompt_number": 4
    },
    {
     "cell_type": "markdown",
     "metadata": {},
     "source": [
      "## E-MAIL PARSING FUNCTIONS\n",
      "A set of functions that, combined, generates the next e-mail from a list of files, and\n",
      "returns a tuple containing its sender, subject, message, and the name of the file."
     ]
    },
    {
     "cell_type": "code",
     "collapsed": false,
     "input": [
      "def parse_email_list(file_list):\n",
      "    '''\n",
      "    Create a generator that iterates through the e-mails in\n",
      "    a folder, and parses them as the generator is called.\n",
      "    '''\n",
      "    for f in file_list:\n",
      "        yield parse_email(os.path.join(easyham_path, f))\n",
      "\n",
      "def parse_email(path):\n",
      "    '''\n",
      "    Get important elements of an e-mail file (date, sender's\n",
      "    e-mail address, subject, and message contents.\n",
      "    '''\n",
      "    filename        = os.path.split(path)[-1]\n",
      "    header, message = get_header_and_message(path)\n",
      "    date            = get_date(header)\n",
      "    sender          = get_sender(header)\n",
      "    subj            = get_subject(header)\n",
      "    return date, sender, subj, message, filename\n",
      "\n",
      "def get_header_and_message(path):\n",
      "    '''\n",
      "    Split e-mail's header and its message into two\n",
      "    separate strings.\n",
      "    '''\n",
      "    with open(path, 'rU') as con:\n",
      "        email = con.readlines()\n",
      "        first_blank_index = email.index('\\n')\n",
      "        header = email[:first_blank_index]\n",
      "        message = ''.join(email[(first_blank_index + 1): ])\n",
      "    return header, message\n",
      "\n",
      "# Regex pattern that finds the date line\n",
      "# (it's a line that starts with 'Date')\n",
      "date_pattern = re.compile('^Date')\n",
      "\n",
      "def get_date(header):\n",
      "    '''\n",
      "    Find the date line of the e-mail's header, and parse\n",
      "    the date into a datetime object.\n",
      "    '''\n",
      "    # Get the first line that matches the date-line\n",
      "    # regex pattern\n",
      "    dateline = [l for l in header if \n",
      "                re.search(date_pattern, l) != None][0]\n",
      "    \n",
      "    # Grab the text after 'Date: ' (6 chars)\n",
      "    dateline = dateline[6:].strip()\n",
      "    \n",
      "    # Return the date as parsed by dateutil.parser.parse()\n",
      "    return dtp.parse(dateline)\n",
      "\n",
      "# Characters that may separate words in the From line\n",
      "splitfrom_pattern = re.compile('[\\\"\\:<> ]')\n",
      "\n",
      "def get_sender(header):\n",
      "    '''\n",
      "    Find the 'From:' line in the e-mail's header data, and \n",
      "    extract the sender's e-mail address from it.\n",
      "    '''\n",
      "    # Find line in header that contains 'From: '\n",
      "    sender = filter(lambda s: s.find('From: ') != -1, header)[0]\n",
      "    \n",
      "    # Get 'words' in From line\n",
      "    sender = re.split(splitfrom_pattern, sender)\n",
      "    sender = filter(lambda s: s != ' ' and s != '', sender)\n",
      "    \n",
      "    # Find the first word that is an e-mail address (contains @)\n",
      "    sender = filter(lambda s: '@' in s, sender)[0]\n",
      "    sender = re.sub('\\\\[a-z]', '', sender)\n",
      "    \n",
      "    return sender.lower().rstrip()\n",
      "\n",
      "def get_subject(header):\n",
      "    '''\n",
      "    Find the subject line of the e-mail's header, and extract\n",
      "    the subject text.\n",
      "    '''\n",
      "    subject = filter(lambda s: s.find('Subject: ') != -1, header)\n",
      "    if len(subject) > 0:\n",
      "        subject_start = subject[0].find('Subject: ') + 9\n",
      "        subject = subject[0][subject_start:]\n",
      "        return subject.lower()\n",
      "    else:\n",
      "        return ''"
     ],
     "language": "python",
     "metadata": {},
     "outputs": [],
     "prompt_number": 5
    },
    {
     "cell_type": "markdown",
     "metadata": {},
     "source": [
      "This function will using the parse_email_list\n",
      "function to iterate through the e-mail generator\n",
      "and collect the e-mails' date, sender, subject,\n",
      "message (and the name of the file containing the e-mail)\n",
      "into a dictionary of lists. The dictionary is then \n",
      "converted to a DataFrame."
     ]
    },
    {
     "cell_type": "code",
     "collapsed": false,
     "input": [
      "def make_email_df(email_dir):\n",
      "    '''\n",
      "    Parse each e-mail in a directory and return a dataframe\n",
      "     of each e-mail's date, sender, subject, and message\n",
      "    '''\n",
      "    \n",
      "    email_dict = {'date'     : [],\n",
      "                  'sender'   : [], \n",
      "                  'subject'  : [], \n",
      "                  'message'  : [],\n",
      "                  'filename' : []}\n",
      "\n",
      "    # Get a list of e-mails to parse\n",
      "    file_list = os.listdir(email_dir)\n",
      "    file_list = [f for f in file_list if  f != 'cmds'] \n",
      "    \n",
      "    # A generator that that returns the parsed components\n",
      "    # of each subsequent e-mail as called\n",
      "    parsed_emails = parse_email_list(file_list)\n",
      "    \n",
      "    # Fill up the dictionary with the generator\n",
      "    for pe in parsed_emails:\n",
      "        date, sender, subject, message, filename = pe\n",
      "        email_dict['date'].append(date)\n",
      "        email_dict['sender'].append(sender)\n",
      "        email_dict['subject'].append(subject)\n",
      "        email_dict['message'].append(message)\n",
      "        email_dict['filename'].append(filename)\n",
      "    \n",
      "    # Make the dictionary a data frame.\n",
      "    email_df = DataFrame(email_dict, \n",
      "                         columns = ['date', 'sender', 'subject', \n",
      "                                    'message', 'filename'])  \n",
      "    return email_df"
     ],
     "language": "python",
     "metadata": {},
     "outputs": [],
     "prompt_number": 6
    },
    {
     "cell_type": "code",
     "collapsed": false,
     "input": [
      "# Make a dataframe of information in the\n",
      "# 'Easy Ham' emails\n",
      "email_df = make_email_df(easyham_path)"
     ],
     "language": "python",
     "metadata": {},
     "outputs": [],
     "prompt_number": 7
    },
    {
     "cell_type": "markdown",
     "metadata": {},
     "source": [
      "The first half of the e-mails will be used as the 'training'\n",
      "set. From this set we'll extract features that we'll use\n",
      "to classify the second half of e-mails. Typically, we might\n",
      "shuffle the data before splitting the set, so that we get\n",
      "a representative view of features. But, since we're classifying\n",
      "e-mails, it's more appropriate to take the earlier e-mails\n",
      "as the training set, and see how well they identify 'priority'\n",
      "e-mails amongst subsequently-recieved e-mails."
     ]
    },
    {
     "cell_type": "code",
     "collapsed": false,
     "input": [
      "def train_test_split(df, train_fraction = .5, shuffle = True, \n",
      "                     preserve_index = True, seed = None):\n",
      "    '''\n",
      "    Split a dataframe into training and test sets by randomly assigning\n",
      "    its observations to one set or the other.\n",
      "\n",
      "    Parameters\n",
      "    ----------\n",
      "    df: a DataFrame\n",
      "    train_fraction: the fraction of `df` to be assigned to the \n",
      "        training set (1-train_fraction will go to the test set).\n",
      "    preserve_index: If True, the split dataframes keep their index\n",
      "        values from `df`. If False, each set gets a new integer index\n",
      "        of arange(# rows).\n",
      "    seed: the random number generator seed for row shuffling.\n",
      "    '''\n",
      "    if seed: \n",
      "        random.seed(seed)\n",
      "        \n",
      "    nrows = df.shape[0]\n",
      "    split_point = int(train_fraction * nrows)\n",
      "    \n",
      "    rows = range(nrows)\n",
      "    if shuffle: \n",
      "        random.shuffle(rows)\n",
      "    \n",
      "    train_rows = rows[:split_point]\n",
      "    test_rows  = rows[split_point:]\n",
      "    \n",
      "    train_index = df.index[train_rows]\n",
      "    test_index  = df.index[test_rows]\n",
      "    \n",
      "    train_df = df.ix[train_index, :]\n",
      "    test_df  = df.ix[test_index, :]\n",
      "    \n",
      "    if not preserve_index:\n",
      "        train_df.index = arange(train_df.shape[0])\n",
      "        test_df.index  = arange(test_df.shape[0])\n",
      "    \n",
      "    return train_df, test_df"
     ],
     "language": "python",
     "metadata": {},
     "outputs": [],
     "prompt_number": 8
    },
    {
     "cell_type": "markdown",
     "metadata": {},
     "source": [
      "Some dates lack time-zone info, making them impossible to sort\n",
      "We'll sort ignoring timezone, knowing that it's buggy, but for \n",
      "comparison with the book. The R code in ML4H ignores timezones,\n",
      "and this leads to some errors. See note at the end."
     ]
    },
    {
     "cell_type": "code",
     "collapsed": false,
     "input": [
      "email_df['sort_date'] = email_df['date'].map(lambda d: \n",
      "    dt.datetime(d.year, d.month, d.day, d.hour, d.minute, d.second))\n",
      "email_df = email_df.sort('sort_date')\n",
      "train_df, test_df = train_test_split(email_df, shuffle = False,\n",
      "                                     preserve_index = False, \n",
      "                                     seed = 224)"
     ],
     "language": "python",
     "metadata": {},
     "outputs": [],
     "prompt_number": 9
    },
    {
     "cell_type": "code",
     "collapsed": false,
     "input": [
      "# Each sender address get's a weight equal to the log of \n",
      "# 1 + the number of e-mails from that address.\n",
      "def get_sender_weights(email_df):\n",
      "    freq = email_df['sender'].value_counts()\n",
      "    freq.sort()\n",
      "    sender_weights = DataFrame({'freq'   : freq,\n",
      "                                'weight' : np.log(1.0 + freq)})\n",
      "    sender_weights = sender_weights.sort('weight', ascending = False)\n",
      "    return sender_weights"
     ],
     "language": "python",
     "metadata": {},
     "outputs": [],
     "prompt_number": 10
    },
    {
     "cell_type": "markdown",
     "metadata": {},
     "source": [
      "Plot sender frequencies of the top 30 senders in the training\n",
      "set. Get the frequencies of these same addresses from the test\n",
      "set, and plot for comparisons. This will give us some idea of\n",
      "senders we'll end up flagging in the test set."
     ]
    },
    {
     "cell_type": "code",
     "collapsed": false,
     "input": [
      "sender_weights = get_sender_weights(train_df)\n",
      "sender_weights_test = get_sender_weights(test_df)\n",
      "\n",
      "nshow = 30\n",
      "top_emails = sender_weights[:nshow].index\n",
      "\n",
      "plt.figure(figsize = (6, 14))\n",
      "plt.barh(np.arange(nshow), sender_weights['freq'][top_emails], \n",
      "         align = 'center', \n",
      "         label = 'Training')\n",
      "plt.barh(np.arange(nshow), sender_weights_test['freq'][top_emails], \n",
      "         align = 'center', \n",
      "         left  = sender_weights['freq'][top_emails].fillna(0),\n",
      "         fc    = 'orange', \n",
      "         alpha = .8,\n",
      "         label = 'Test')\n",
      "plt.ylim((0 - .5, nshow - .5))\n",
      "plt.title('Frequency of top %i sender addresses' % nshow)\n",
      "plt.yticks(np.arange(nshow), top_emails)\n",
      "plt.legend(frameon = False)"
     ],
     "language": "python",
     "metadata": {},
     "outputs": [
      {
       "output_type": "pyout",
       "prompt_number": 11,
       "text": [
        "<matplotlib.legend.Legend at 0x1070c7190>"
       ]
      },
      {
       "output_type": "display_data",
       "png": "[encoded data removed]"
      }
     ],
     "prompt_number": 11
    },
    {
     "cell_type": "markdown",
     "metadata": {},
     "source": [
      "## PARSING AND WEIGHTING THREADS\n",
      "We want to identify threads amongst the e-mails and exctract\n",
      "information from them separately.\n",
      "We'll find threads that have been replied-to or forwarded,\n",
      "and collect all e-mails with the same subject (after stripping\n",
      "reply and forward tags out) into the same thread. \n",
      "\n",
      "For example:\n",
      "\n",
      "1. 'Hi there'\n",
      "2. 'Re: Hi there'\n",
      "3. 'Re: Re: Hi there'\n",
      "4. 'Fw: Hi there'\n",
      "5. 'Re[3]: Hi there' \n",
      "\n",
      "will all be in the same thread. This differs slightly from\n",
      "how the book identifies thread messages. They only flag\n",
      "messages with 'Re:' prefixes, so they would miss messages\n",
      "[1] and [4]. (TODO: Check how they would flag [5])\n",
      "\n",
      "After flagging them, we'll collect info about these threads# into a separate DataFrame."
     ]
    },
    {
     "cell_type": "markdown",
     "metadata": {},
     "source": [
      "*Regex patterns indicating a thread.* Looking for reply and forward markers.  Note that some mail\n",
      "services use 'Re:Re:Re:'-type prexifes to mark multiple replies\n",
      "(or forwards), while other use 'Re[3]:'. "
     ]
    },
    {
     "cell_type": "code",
     "collapsed": false,
     "input": [
      "reply_pattern   = '(re:|re\\[\\d\\]:)'\n",
      "fwd_pattern = '(fw:|fw[\\d]:)'"
     ],
     "language": "python",
     "metadata": {},
     "outputs": [],
     "prompt_number": 12
    },
    {
     "cell_type": "code",
     "collapsed": false,
     "input": [
      "def thread_flag(s):\n",
      "    '''\n",
      "    Returns True if string s matches the thread patterns.\n",
      "    If s is a pandas Series, returns a Series of booleans.\n",
      "    '''\n",
      "    if isinstance(s, basestring):\n",
      "        return re.search(reply_pattern, s) is not None\n",
      "    else:\n",
      "        return s.str.contains(reply_pattern, re.I)\n",
      "\n",
      "def clean_subject(s):\n",
      "    '''\n",
      "    Removes all the reply and forward labeling from a \n",
      "    string (an e-mail subject) s. \n",
      "    If s is a pandas Series, returns a Series of cleaned\n",
      "    strings.\n",
      "    This will help find the initial message in the thread\n",
      "    (which won't have any of the reply/forward labeling.\n",
      "    '''\n",
      "    if isinstance(s, basestring):\n",
      "        s_clean = re.sub(reply_pattern, '', s, re.I)\n",
      "        s_clean = re.sub(fwd_pattern, '', s_clean, re.I)\n",
      "        s_clean = s_clean.strip()\n",
      "    else:\n",
      "        s_clean = s.str.replace(reply_pattern, '', re.I)\n",
      "        s_clean = s_clean.str.replace(fwd_pattern, '', re.I)\n",
      "        s_clean = s_clean.str.strip()\n",
      "    \n",
      "    return s_clean\n",
      "\n",
      "def get_thread_df(email_df):\n",
      "    '''\n",
      "    Identify threads in an e-mail DataFrame, and extract\n",
      "    them into a new DataFrame.\n",
      "    '''\n",
      "    \n",
      "    # Find threads by e-mails with reply patterns in their subjects.\n",
      "    # Then get a set of thread subjects.\n",
      "    is_thread = thread_flag(email_df['subject'])\n",
      "    thread_subj = email_df['subject'][is_thread]\n",
      "    \n",
      "    # Clean up the subjects by removing reply and forward labels\n",
      "    thread_subj = clean_subject(thread_subj) \n",
      "    thread_subj = thread_subj.unique()\n",
      "    \n",
      "    # Search for these thread subjects in the original\n",
      "    # e-mail DataFrame (so we pick up the original e-mail in the\n",
      "    # thread (which won't have a reply pattern in its subject)\n",
      "    \n",
      "    # Prepare the DataFrame for searching by cleaning up the \n",
      "    # subjects.\n",
      "    search_df = email_df[['date', 'sender', 'subject']]\n",
      "    search_df['subject'] = clean_subject(search_df['subject'])\n",
      "    \n",
      "    # Find subject matches\n",
      "    thread_matches = [subj in thread_subj for subj in search_df['subject']]\n",
      "    match_df = search_df.ix[thread_matches, :]\n",
      "    \n",
      "    return match_df "
     ],
     "language": "python",
     "metadata": {},
     "outputs": [],
     "prompt_number": 13
    },
    {
     "cell_type": "code",
     "collapsed": false,
     "input": [
      "# Get a DataFrame of threads in the training e-mails;\n",
      "# compute sender weights within this subset of threads.\n",
      "# To do the latter, we can use the same function we\n",
      "# used on the whole DataFrame above.\n",
      "thread_df = get_thread_df(train_df)\n",
      "thread_sender_weights = get_sender_weights(thread_df)"
     ],
     "language": "python",
     "metadata": {},
     "outputs": [],
     "prompt_number": 14
    },
    {
     "cell_type": "code",
     "collapsed": false,
     "input": [
      "def get_thread_activity(thread_df):\n",
      "    '''\n",
      "    Compute 'activity' statistics on threads in a DataFrame:\n",
      "    frequency: Number of e-mails observed in the thread\n",
      "    span: Time before the first and last e-mail observed (seconds)\n",
      "    weight: Number e-mails-per-second in the thread (log-scale)\n",
      "    '''\n",
      "    clean_times = thread_df['date'].map(lambda t: t.tzinfo is not None)\n",
      "    thread_df_clean = thread_df.ix[clean_times, :]\n",
      "    \n",
      "    freq_by_thread = thread_df['subject'].value_counts()\n",
      "    \n",
      "    # NB: I'm not sure if total_seconds() is daylight-savings aware\n",
      "    # so this may be mildly buggy.\n",
      "    seconds_span = lambda x: (\n",
      "        (np.max(x) - np.min(x)).total_seconds())\n",
      "    \n",
      "    span_by_thread = thread_df_clean.groupby('subject')\n",
      "    span_by_thread = span_by_thread['date'].aggregate(seconds_span)\n",
      "    \n",
      "    activity = DataFrame({'freq'   : freq_by_thread,\n",
      "                          'span'   : span_by_thread,\n",
      "                          'weight' : 10 + np.log10(freq_by_thread/span_by_thread)})\n",
      "    \n",
      "    # Restricting to threads with more than 2 e-mails may be unecessary, but we \n",
      "    # could get 1-e-mail threads for a couple of reasons: misclassification (it's \n",
      "    # not really a thread), and left-censored threads -- where we found the last \n",
      "    # reply in the thread, but the earlier messages were recieved before the data \n",
      "    # was collected.\n",
      "    activity = activity[activity['freq'] >= 2]\n",
      "    activity = activity[notnull(activity['weight'])]\n",
      "    return activity"
     ],
     "language": "python",
     "metadata": {},
     "outputs": [],
     "prompt_number": 15
    },
    {
     "cell_type": "code",
     "collapsed": false,
     "input": [
      "thread_activity_df = get_thread_activity(thread_df)"
     ],
     "language": "python",
     "metadata": {},
     "outputs": [],
     "prompt_number": 16
    },
    {
     "cell_type": "markdown",
     "metadata": {},
     "source": [
      "Check against table on p. 116\n",
      "\n",
      "Since book ignores time-zone info., spans in book are often\n",
      "wrong (see, e.g., 'please help newbie compile mplayer :-)')"
     ]
    },
    {
     "cell_type": "code",
     "collapsed": false,
     "input": [
      "threads_to_check = ['please help a newbie compile mplayer :-)',\n",
      "                    'prob. w/ install/uninstall',\n",
      "                    'http://apt.nixia.no/']\n",
      "\n",
      "print thread_activity_df.ix[threads_to_check, :]"
     ],
     "language": "python",
     "metadata": {},
     "outputs": [
      {
       "output_type": "stream",
       "stream": "stdout",
       "text": [
        "                                          freq    span    weight\n",
        "please help a newbie compile mplayer :-)     4   13509  6.471437\n",
        "prob. w/ install/uninstall                   4   12114  6.518772\n",
        "http://apt.nixia.no/                        10  265303  5.576258\n"
       ]
      }
     ],
     "prompt_number": 17
    },
    {
     "cell_type": "markdown",
     "metadata": {},
     "source": [
      "## BUILDING TERM WEIGHT FUNCTIONS\n",
      "We create term-document-matrices for the e-mails\n",
      "subjects and messages. (E.g., each subject is a document,\n",
      "or each message is a document). Then we make two different \n",
      "sets of term weighting functions.\n",
      "\n",
      "1. *Subject-term weights*: \n",
      "   - The set of all *thread* subjects in the training set has terms $\\\\{t_1, \\ldots, t_n\\\\}$ . \n",
      "   - Each term, $t_i$, occurs in the subjects of threads $\\\\{s_1(t_i), \\ldots, s_k(t_i)\\\\}$\n",
      "- Each thread subject $s_j$ has an activity weight.\n",
      "- Each term, then, gets a weight that is the average of the activity weights of the thread\n",
      "subjects it occurs in. Note that only terms that are in the subjects of the threads in the training data get weight.\n",
      "   - An e-mail's *subject-term-weight* is the average of its subject's term weights. If none of the terms in its subject have a weight, then its subject-term-weight is 1.\n",
      "2. *Message-term weights*:\n",
      "- Each message in the training set has terms $\\\\{t_1, \\ldots, t_n\\\\}$.\n",
      "- Each of these terms has a weight based on its frequency (the number of times it appear across all messages). The weight is $\\log_{10}(\\textrm{freq}(t_i))\\ \\ $ .\n",
      "- An e-mails message-term-weight is the average of the term-weights of all the terms in its message. If the e-mail contains no terms that match the weighted terms (i.e., no terms that are message terms from training set messages), the e-mail gets a message-term-weight of 1."
     ]
    },
    {
     "cell_type": "code",
     "collapsed": false,
     "input": [
      "# Stopwords from R. NLTK has a set of stopwords we could use as \n",
      "# well, but this minimizes discrepancies with the book.\n",
      "rsw = read_csv('../ch3/r_stopwords.csv')['x'].values.tolist()\n",
      "\n",
      "def get_thread_subject_term_weights(thread_activity_df):\n",
      "    '''\n",
      "    Creates a term->weight map based on a DataFrame containing\n",
      "    thread subjects and their activity weights\n",
      "    '''\n",
      "    thread_subjects = thread_activity_df.index\n",
      "    thread_tdm = tdm_df(thread_subjects, remove_punctuation = False,\n",
      "                                         remove_digits = False,\n",
      "                                         stopwords = rsw)\n",
      "    \n",
      "    def calc_term_weight(term): \n",
      "        threads_with_term = np.where(thread_tdm[term] > 0.0)\n",
      "        weight_vec = thread_activity_df['weight'].ix[threads_with_term] \n",
      "        return weight_vec.mean()\n",
      "   \n",
      "    term_weights = Series({t: calc_term_weight(t) for t in thread_tdm})\n",
      "    return term_weights"
     ],
     "language": "python",
     "metadata": {},
     "outputs": [],
     "prompt_number": 18
    },
    {
     "cell_type": "code",
     "collapsed": false,
     "input": [
      "thread_subject_terms_weights = \\\n",
      "    get_thread_subject_term_weights(thread_activity_df)"
     ],
     "language": "python",
     "metadata": {},
     "outputs": [],
     "prompt_number": 19
    },
    {
     "cell_type": "code",
     "collapsed": false,
     "input": [
      "# Example term weights\n",
      "print thread_subject_terms_weights.head(10)"
     ],
     "language": "python",
     "metadata": {},
     "outputs": [
      {
       "output_type": "stream",
       "stream": "stdout",
       "text": [
        "aa           5.759571\n",
        "adam         5.975084\n",
        "adhesion     4.814012\n",
        "adsl         6.397131\n",
        "advice       4.915926\n",
        "alsa         5.817899\n",
        "angry        6.028029\n",
        "announces    6.093981\n",
        "anolther     5.317371\n",
        "app          5.699035\n"
       ]
      }
     ],
     "prompt_number": 20
    },
    {
     "cell_type": "code",
     "collapsed": false,
     "input": [
      "def get_message_term_weights(email_df):\n",
      "    '''\n",
      "    Creates a term->weight map for terms in the messages of the training\n",
      "    e-mail DataFrame\n",
      "    '''\n",
      "    messages = email_df['message']\n",
      "    term_freq = tdm_df(messages, stopwords = rsw).sum()\n",
      "    \n",
      "    term_weight_df = DataFrame({'freq'   : term_freq,\n",
      "                                'weight' : np.log10(term_freq)})\n",
      "    \n",
      "    return term_weight_df   "
     ],
     "language": "python",
     "metadata": {},
     "outputs": [],
     "prompt_number": 21
    },
    {
     "cell_type": "code",
     "collapsed": false,
     "input": [
      "message_terms_weights = get_message_term_weights(train_df)"
     ],
     "language": "python",
     "metadata": {},
     "outputs": [],
     "prompt_number": 22
    },
    {
     "cell_type": "markdown",
     "metadata": {},
     "source": [
      "The following function comprises the two term-weighting functions. It computes either a message's subject-term-weight or message-term-weight, depending on what arguments we pass to it."
     ]
    },
    {
     "cell_type": "code",
     "collapsed": false,
     "input": [
      "def get_weight_from_terms(term_list, weight_df, subject = False):\n",
      "    '''\n",
      "    Given a term-list from an e-mail's message, and a term->weights\n",
      "    map contained in a DataFrame, calculate the e-mail's message or\n",
      "    subject term-weight. (default is message)\n",
      "    '''\n",
      "    if isinstance(term_list, basestring):\n",
      "        term_list = [term_list]\n",
      "    \n",
      "    if subject:\n",
      "        weights = weight_df\n",
      "    else:\n",
      "        weights = weight_df['weight']\n",
      "    \n",
      "    term_list_weight = weights[term_list].mean()\n",
      "    \n",
      "    if np.isnan(term_list_weight):\n",
      "        term_list_weight = 1.0\n",
      "    \n",
      "    return term_list_weight"
     ],
     "language": "python",
     "metadata": {},
     "outputs": [],
     "prompt_number": 23
    },
    {
     "cell_type": "markdown",
     "metadata": {},
     "source": [
      "## Rank the e-mails\n",
      "The following functions iterate through a DataFrame of\n",
      "e-mails and compute the weights of its e-mails by combining all the functions\n",
      "we've defined above."
     ]
    },
    {
     "cell_type": "code",
     "collapsed": false,
     "input": [
      "def rank_email(email_df, row):\n",
      "    '''\n",
      "    Ranks an e-mail (as contained in the row of a DataFrame) by\n",
      "    computing and combining its five weights.\n",
      "    '''\n",
      "    email   = email_df.ix[row, :]\n",
      "    date    = email['date']\n",
      "    sender  = email['sender']\n",
      "    subject = email['subject']\n",
      "    message = email['message']\n",
      "    \n",
      "    # 1. Get sender weights (all messages)\n",
      "    sender_weight = (sender_weights['weight']\n",
      "                     .get(sender) or 1.0)\n",
      "    \n",
      "    # 2. Get sender weights (threads)\n",
      "    thread_sender_weight = (thread_sender_weights['weight']\n",
      "                           .get(sender) or 1.0)\n",
      "    \n",
      "    # 3. Get thread activity weight\n",
      "    is_thread = thread_flag(subject)\n",
      "    subject = clean_subject(subject)\n",
      "    if is_thread:\n",
      "        activity_weight = (thread_activity_df['weight']\n",
      "                           .get(subject) or 1.0)\n",
      "    else:\n",
      "        activity_weight = 1.0\n",
      "    \n",
      "    # 4. Get subject line weight via thread-subject term weights\n",
      "    subj_terms = tdm_df(subject, remove_punctuation = False,\n",
      "                                 remove_digits = False,\n",
      "                                 stopwords = rsw).columns\n",
      "    subj_term_weight = get_weight_from_terms(subj_terms, \n",
      "                            thread_subject_terms_weights,\n",
      "                            subject = True)\n",
      "    \n",
      "    # 5. Message term weight\n",
      "    message_terms = tdm_df(message, stopwords = rsw).columns\n",
      "    message_term_weight = get_weight_from_terms(message_terms,\n",
      "                               message_terms_weights)\n",
      "    weights = [sender_weight, \n",
      "               thread_sender_weight,\n",
      "               activity_weight,\n",
      "               subj_term_weight,\n",
      "               message_term_weight]\n",
      "    \n",
      "    # The e-mail's final rank is just the product of the weights.\n",
      "    rank = np.array(weights).prod()\n",
      "   \n",
      "    return rank"
     ],
     "language": "python",
     "metadata": {},
     "outputs": [],
     "prompt_number": 24
    },
    {
     "cell_type": "code",
     "collapsed": false,
     "input": [
      "def make_rank_df(email_df):\n",
      "    '''\n",
      "    Rank each e-mail in a DataFrame.\n",
      "    '''\n",
      "    n_emails = email_df.shape[0]\n",
      "    \n",
      "    sender_weight_results = []\n",
      "    thread_sender_weight_results = []\n",
      "    activity_weight_results = []\n",
      "    subj_term_weight_results = []\n",
      "    message_term_weight_results = []\n",
      "    \n",
      "    rank_results = []\n",
      "    rank_df = email_df.copy()\n",
      "    \n",
      "    for e in xrange(n_emails):\n",
      "        weights_rank = rank_email(email_df, e)\n",
      "        rank_results.append(weights_rank)\n",
      "     \n",
      "    rank_df['rank'] = rank_results\n",
      "    \n",
      "    return rank_df"
     ],
     "language": "python",
     "metadata": {},
     "outputs": [],
     "prompt_number": 25
    },
    {
     "cell_type": "markdown",
     "metadata": {},
     "source": [
      "Rank the e-mails in the training set."
     ]
    },
    {
     "cell_type": "code",
     "collapsed": false,
     "input": [
      "train_ranks = make_rank_df(train_df)"
     ],
     "language": "python",
     "metadata": {},
     "outputs": [],
     "prompt_number": 26
    },
    {
     "cell_type": "markdown",
     "metadata": {},
     "source": [
      "Calculate the threshold for flagging a 'priority' message. \n",
      "New messages that have a rank greater than the threshold get flagged as priority."
     ]
    },
    {
     "cell_type": "code",
     "collapsed": false,
     "input": [
      "threshold = train_ranks['rank'].median()"
     ],
     "language": "python",
     "metadata": {},
     "outputs": [],
     "prompt_number": 27
    },
    {
     "cell_type": "markdown",
     "metadata": {},
     "source": [
      "Rank the e-mails in the test set."
     ]
    },
    {
     "cell_type": "code",
     "collapsed": false,
     "input": [
      "test_ranks = make_rank_df(test_df)"
     ],
     "language": "python",
     "metadata": {},
     "outputs": [],
     "prompt_number": 28
    },
    {
     "cell_type": "markdown",
     "metadata": {},
     "source": [
      "## PLOT E-MAIL RANKS\n",
      "Plot the density of e-mail ranks in the test and training set. Note the mass of e-mails in the test set are ranked lower than priority, and only a tail of e-mails are flagged."
     ]
    },
    {
     "cell_type": "code",
     "collapsed": false,
     "input": [
      "train_kde = KDE(train_ranks['rank'])\n",
      "train_kde.fit()\n",
      "test_kde = KDE(test_ranks['rank'])\n",
      "test_kde.fit()\n",
      "\n",
      "plt.figure(figsize(8, 6))\n",
      "plt.fill(train_kde.support, train_kde.density, color = 'steelblue', alpha = .7, \n",
      "         label = 'Train')\n",
      "plt.fill(test_kde.support, test_kde.density, color = 'red', alpha = .7, \n",
      "         label = 'Test')\n",
      "plt.xlim(0, 400)\n",
      "plt.ylim(0, np.max(test_kde.density))\n",
      "plt.axvline(threshold, linestyle = '--', label = 'Priority threshold')\n",
      "plt.xlabel('Rank')\n",
      "plt.ylabel('Density')\n",
      "plt.title('Distribution of ranks for training and test e-mails')\n",
      "plt.legend(frameon = False)"
     ],
     "language": "python",
     "metadata": {},
     "outputs": [
      {
       "output_type": "pyout",
       "prompt_number": 29,
       "text": [
        "<matplotlib.legend.Legend at 0x10f450f90>"
       ]
      },
      {
       "output_type": "display_data",
       "png": "[encoded data removed]"
      }
     ],
     "prompt_number": 29
    },
    {
     "cell_type": "markdown",
     "metadata": {},
     "source": [
      "## EXPLORING RESULTS\n",
      "\n",
      "How many e-mails do we flag as priority in the test set?"
     ]
    },
    {
     "cell_type": "code",
     "collapsed": false,
     "input": [
      "(test_ranks['rank'] > threshold).sum()"
     ],
     "language": "python",
     "metadata": {},
     "outputs": [
      {
       "output_type": "pyout",
       "prompt_number": 30,
       "text": [
        "65"
       ]
      }
     ],
     "prompt_number": 30
    },
    {
     "cell_type": "markdown",
     "metadata": {},
     "source": [
      "What sender addresses get flagged in the test set?\n",
      "We should see some familiar addresses from the graph above."
     ]
    },
    {
     "cell_type": "code",
     "collapsed": false,
     "input": [
      "test_ranks[test_ranks['rank'] > threshold]['sender'].unique()"
     ],
     "language": "python",
     "metadata": {},
     "outputs": [
      {
       "output_type": "pyout",
       "prompt_number": 31,
       "text": [
        "array([fork_list@hotmail.com, cdale@techmonkeys.net, owen@permafrost.net,\n",
        "       geege@barrera.org, felicity@kluge.net, johnhall@evergo.net,\n",
        "       welch@panasas.com, rah@shipwright.com, cwg-exmh@deepeddy.com,\n",
        "       elias@cse.ucsc.edu, dl@silcom.com, yyyy@spamassassin.taint.org,\n",
        "       ricardo@mdbcomunicacao.com.br, kre@munnari.oz.au, matthias@egwn.net,\n",
        "       tomwhore@slack.net, quinlan@pathname.com, aeriksson@fastmail.fm,\n",
        "       eugen@leitl.org, ejw@cse.ucsc.edu, garym@canada.com,\n",
        "       angles@aminvestments.com, mark@talios.com, deafbox@hotmail.com,\n",
        "       timc@2ubh.com], dtype=object)"
       ]
      }
     ],
     "prompt_number": 31
    },
    {
     "cell_type": "markdown",
     "metadata": {},
     "source": [
      "Which training set e-mail is ranked highest?"
     ]
    },
    {
     "cell_type": "code",
     "collapsed": false,
     "input": [
      "maxrank_email = train_ranks.ix[train_ranks['rank'].idxmax(), :]\n",
      "print 'Maximum rank in training set: ', train_ranks['rank'].max()"
     ],
     "language": "python",
     "metadata": {},
     "outputs": [
      {
       "output_type": "stream",
       "stream": "stdout",
       "text": [
        "Maximum rank in training set:  1020.94633354\n"
       ]
      }
     ],
     "prompt_number": 32
    },
    {
     "cell_type": "markdown",
     "metadata": {},
     "source": [
      "This turns out to be a lot higher than the largest found by the authors' R program. Let's check it out.\n",
      "\n",
      "It turns out this e-mail's thread activity weight is substantially higher than found in the R code. As shown next, this is the result of a time-zone bug in the R code."
     ]
    },
    {
     "cell_type": "code",
     "collapsed": false,
     "input": [
      "thread_activity_df.ix[clean_subject(maxrank_email['subject']), :]"
     ],
     "language": "python",
     "metadata": {},
     "outputs": [
      {
       "output_type": "pyout",
       "prompt_number": 33,
       "text": [
        "freq      2.00000\n",
        "span      4.00000\n",
        "weight    9.69897\n",
        "Name: [sadev] [bug 840] spam_level_char option change/removal"
       ]
      }
     ],
     "prompt_number": 33
    },
    {
     "cell_type": "markdown",
     "metadata": {},
     "source": [
      "There are two messages in this thread (in the training set)."
     ]
    },
    {
     "cell_type": "code",
     "collapsed": false,
     "input": [
      "thread_df[thread_df['subject'].str.contains('spam_level_char')]['date']"
     ],
     "language": "python",
     "metadata": {},
     "outputs": [
      {
       "output_type": "pyout",
       "prompt_number": 34,
       "text": [
        "734    2002-09-06 10:56:23-07:00\n",
        "763    2002-09-06 13:56:19-04:00\n",
        "Name: date"
       ]
      }
     ],
     "prompt_number": 34
    },
    {
     "cell_type": "markdown",
     "metadata": {},
     "source": [
      "E-mail 734 come 4 seconds after 763. But if we mistakenly ignore the time-zone (like in the R code) 734 comes 2:59:56 _before_ 763.\n",
      "\n",
      "All else equal, this will reduce the rank of this e-mail by 35%."
     ]
    },
    {
     "cell_type": "code",
     "collapsed": false,
     "input": [
      "correct_weight = 10 + np.log10(2 / 4.)\n",
      "incorrect_weight = 10 + np.log10(2 / (2* 3600 + 59 * 60 + 56.))\n",
      "print 'Activity weight correct time-zone: ', correct_weight\n",
      "print 'Activity weight incorrect time-zone: ', incorrect_weight\n",
      "print 'Rank difference: ' , '{:2.1%}'.format(1 - incorrect_weight / correct_weight)"
     ],
     "language": "python",
     "metadata": {},
     "outputs": [
      {
       "output_type": "stream",
       "stream": "stdout",
       "text": [
        "Activity weight correct time-zone:  9.69897000434\n",
        "Activity weight incorrect time-zone:  6.26776711978\n",
        "Rank difference:  35.4%\n"
       ]
      }
     ],
     "prompt_number": 35
    }
   ],
   "metadata": {}
  }
 ]
}